{
 "cells": [
  {
   "cell_type": "markdown",
   "id": "8d1ffec3-f4b8-40b1-ac0d-8d1e5d751527",
   "metadata": {},
   "source": [
    "# Data Science Tools and Ecosystem"
   ]
  },
  {
   "cell_type": "markdown",
   "id": "7c41a84c-7fc6-4c16-9066-0d0f39be4c21",
   "metadata": {},
   "source": [
    "### In this notebook, Data Science Tools and Ecosystem are summarized."
   ]
  },
  {
   "cell_type": "markdown",
   "id": "da8d3a9e-679c-4e5f-9a55-313e5127ccb1",
   "metadata": {},
   "source": [
    "#### __Objectives:__\n",
    "* Popular languages for data science\n",
    "* Common libraries usted by data scientists\n",
    "* Data science tools\n"
   ]
  },
  {
   "cell_type": "markdown",
   "id": "9a21ea1c-4e20-426f-9568-fe0c99d88445",
   "metadata": {},
   "source": [
    "#### Some of the popular languages that Data Scientists use are:\n",
    "1. Python\n",
    "2. R\n",
    "3. Scala"
   ]
  },
  {
   "cell_type": "markdown",
   "id": "4580ce48-a164-44aa-aff1-5994470389a3",
   "metadata": {},
   "source": [
    "#### Some of the commonly used libraries used by Data Scientists include:\n",
    "1. Pandas\n",
    "2. Numpy\n",
    "3. Matplotlib"
   ]
  },
  {
   "cell_type": "markdown",
   "id": "3a2a17a8-6220-450a-9622-b266728d5479",
   "metadata": {},
   "source": [
    "|Data Science Tools|\n",
    "|-------------|\n",
    "|Anaconda|\n",
    "|Google Colab|\n",
    "|RStudio|"
   ]
  },
  {
   "cell_type": "markdown",
   "id": "3cf371d6-f0c5-409d-9ea9-51e3e2965655",
   "metadata": {},
   "source": [
    "### Below are a few examples of evaluating arithmetic expressions in Python"
   ]
  },
  {
   "cell_type": "code",
   "execution_count": 1,
   "id": "2cbeae17-43f3-472e-94cf-ddd765fcff90",
   "metadata": {},
   "outputs": [
    {
     "data": {
      "text/plain": [
       "17"
      ]
     },
     "execution_count": 1,
     "metadata": {},
     "output_type": "execute_result"
    }
   ],
   "source": [
    "#This a simple arithmetic expression to mutiply then add integers\n",
    "(3*4)+5"
   ]
  },
  {
   "cell_type": "code",
   "execution_count": 2,
   "id": "2a12510c-5130-4add-bd08-f63805195417",
   "metadata": {},
   "outputs": [
    {
     "data": {
      "text/plain": [
       "33.333333333333336"
      ]
     },
     "execution_count": 2,
     "metadata": {},
     "output_type": "execute_result"
    }
   ],
   "source": [
    "#This will convert 200 minutes to hours by diving by 60\n",
    "200/6"
   ]
  },
  {
   "cell_type": "markdown",
   "id": "5588dda9-97f4-4dcd-a2b2-d42ad8c7341f",
   "metadata": {},
   "source": [
    "## Author\n",
    "#### Santiago Luque"
   ]
  },
  {
   "cell_type": "code",
   "execution_count": null,
   "id": "b40848df-1e4f-4112-8e09-12dfdbd41799",
   "metadata": {},
   "outputs": [],
   "source": []
  }
 ],
 "metadata": {
  "kernelspec": {
   "display_name": "Python 3 (ipykernel)",
   "language": "python",
   "name": "python3"
  },
  "language_info": {
   "codemirror_mode": {
    "name": "ipython",
    "version": 3
   },
   "file_extension": ".py",
   "mimetype": "text/x-python",
   "name": "python",
   "nbconvert_exporter": "python",
   "pygments_lexer": "ipython3",
   "version": "3.11.9"
  }
 },
 "nbformat": 4,
 "nbformat_minor": 5
}
